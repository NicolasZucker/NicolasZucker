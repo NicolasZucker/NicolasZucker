{
  "nbformat": 4,
  "nbformat_minor": 0,
  "metadata": {
    "colab": {
      "name": "Untitled1.ipynb",
      "provenance": [],
      "authorship_tag": "ABX9TyNsiCVYwyXfBzgTq3YZYvyY",
      "include_colab_link": true
    },
    "kernelspec": {
      "name": "python3",
      "display_name": "Python 3"
    },
    "language_info": {
      "name": "python"
    }
  },
  "cells": [
    {
      "cell_type": "markdown",
      "metadata": {
        "id": "view-in-github",
        "colab_type": "text"
      },
      "source": [
        "<a href=\"https://colab.research.google.com/github/NicolasZucker/NicolasZucker/blob/main/GoeyTD4.ipynb\" target=\"_parent\"><img src=\"https://colab.research.google.com/assets/colab-badge.svg\" alt=\"Open In Colab\"/></a>"
      ]
    },
    {
      "cell_type": "code",
      "metadata": {
        "id": "8ClKljsrihWN"
      },
      "source": [
        "import random\n",
        "import numpy as np\n",
        "import matplotlib.pyplot as plt\n",
        "import scipy"
      ],
      "execution_count": 26,
      "outputs": []
    },
    {
      "cell_type": "code",
      "metadata": {
        "colab": {
          "base_uri": "https://localhost:8080/",
          "height": 282
        },
        "id": "rZBW80dBkdSM",
        "outputId": "225d2956-0c97-48c2-e0fd-85837db1974d"
      },
      "source": [
        "q=0.95;\n",
        "a0=1+q;\n",
        "N_step=2000;\n",
        "T_List=[]\n",
        "L_List=[]\n",
        "random.seed(1023)\n",
        "T_List.append(0);\n",
        "T=0\n",
        "L=10\n",
        "L_List.append(10)\n",
        "\n",
        "for k in range(N_step) :\n",
        "  u1=random.uniform(0,1)\n",
        "  u2=a0*random.uniform(0,1)\n",
        "  T = T + np.log(1/u1)/a0;\n",
        "  T_List.append(T)\n",
        "  if u2 < 1:\n",
        "    #L'evènement q s'est produit\n",
        "    L = L + 1;\n",
        "  else :\n",
        "    if L>1:\n",
        "      L = L - 1;\n",
        "  L_List.append(L)\n",
        "  \n",
        "plt.plot(T_List,L_List)\n"
      ],
      "execution_count": 25,
      "outputs": [
        {
          "output_type": "execute_result",
          "data": {
            "text/plain": [
              "[<matplotlib.lines.Line2D at 0x7f7ec81d8a90>]"
            ]
          },
          "metadata": {},
          "execution_count": 25
        },
        {
          "output_type": "display_data",
          "data": {
            "image/png": "[encoded data removed]",
            "text/plain": [
              "<Figure size 432x288 with 1 Axes>"
            ]
          },
          "metadata": {
            "needs_background": "light"
          }
        }
      ]
    }
  ]
}