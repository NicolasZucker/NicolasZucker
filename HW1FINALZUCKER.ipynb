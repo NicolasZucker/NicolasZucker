{
  "nbformat": 4,
  "nbformat_minor": 0,
  "metadata": {
    "anaconda-cloud": {},
    "kernelspec": {
      "display_name": "Python 3",
      "language": "python",
      "name": "python3"
    },
    "language_info": {
      "codemirror_mode": {
        "name": "ipython",
        "version": 3
      },
      "file_extension": ".py",
      "mimetype": "text/x-python",
      "name": "python",
      "nbconvert_exporter": "python",
      "pygments_lexer": "ipython3",
      "version": "3.7.3"
    },
    "nbpresent": {
      "slides": {
        "003ac640-a8f5-4c8b-b027-0e6ac5aeadf1": {
          "id": "003ac640-a8f5-4c8b-b027-0e6ac5aeadf1",
          "prev": "8d64b922-1033-4abd-a055-ddeb2c4e7eae",
          "regions": {
            "e9983e0e-b2ab-4121-8c1d-fc0a2876df24": {
              "attrs": {
                "height": 0.8,
                "width": 0.8,
                "x": 0.1,
                "y": 0.1
              },
              "content": {
                "cell": "38d255ea-801f-4fba-ab56-69e7e76acd51",
                "part": "whole"
              },
              "id": "e9983e0e-b2ab-4121-8c1d-fc0a2876df24"
            }
          }
        },
        "05494ce9-75ca-4221-b16a-ac644d2e048b": {
          "id": "05494ce9-75ca-4221-b16a-ac644d2e048b",
          "prev": null,
          "regions": {
            "2676a39b-6407-433a-9f75-7af1a78ae1d4": {
              "attrs": {
                "height": 0.8,
                "width": 0.8,
                "x": 0.1,
                "y": 0.1
              },
              "content": {
                "cell": "41110e57-97d0-4804-9dd1-1b45e3b94408",
                "part": "whole"
              },
              "id": "2676a39b-6407-433a-9f75-7af1a78ae1d4"
            }
          }
        },
        "263d6249-cc7a-4aea-9cfa-6617d85c17e6": {
          "id": "263d6249-cc7a-4aea-9cfa-6617d85c17e6",
          "prev": "f0ac56f7-b949-4bfb-9d58-5f21384631c7",
          "regions": {
            "711f5e4d-ba0b-455e-b7cc-a20386b48ce1": {
              "attrs": {
                "height": 0.8,
                "width": 0.8,
                "x": 0.1,
                "y": 0.1
              },
              "content": {
                "cell": "7e906668-803f-4a7d-b0fd-4f3089134a41",
                "part": "whole"
              },
              "id": "711f5e4d-ba0b-455e-b7cc-a20386b48ce1"
            }
          }
        },
        "2b528880-956d-4a77-bc69-57453e9d090c": {
          "id": "2b528880-956d-4a77-bc69-57453e9d090c",
          "prev": "05494ce9-75ca-4221-b16a-ac644d2e048b",
          "regions": {
            "abecb19d-49c3-4f0f-b8f5-b92fb41f0327": {
              "attrs": {
                "height": 1,
                "width": 1,
                "x": 0,
                "y": 0
              },
              "content": {
                "cell": "f2f60dbd-7be9-4de7-927a-010e92eae10d",
                "part": "source"
              },
              "id": "abecb19d-49c3-4f0f-b8f5-b92fb41f0327"
            }
          }
        },
        "4f35be28-2fcd-46a4-b5a3-fe55a597adfd": {
          "id": "4f35be28-2fcd-46a4-b5a3-fe55a597adfd",
          "prev": "629563e2-8a4d-430e-b34d-1a4b571ebcea",
          "regions": {
            "b765e0d2-b763-4e10-8a98-883b4219d388": {
              "attrs": {
                "height": 0.8,
                "width": 0.8,
                "x": 0.1,
                "y": 0.1
              },
              "content": {
                "cell": "1e8578a7-1bef-4fed-869d-c87609066916",
                "part": "whole"
              },
              "id": "b765e0d2-b763-4e10-8a98-883b4219d388"
            }
          }
        },
        "55ed7ebd-6236-4e2a-9c81-4f7893bd521f": {
          "id": "55ed7ebd-6236-4e2a-9c81-4f7893bd521f",
          "prev": "db6ec664-6432-48b8-9e85-c4ad92c452df",
          "regions": {
            "537b090d-c4bb-4ee0-a833-428c4c844595": {
              "attrs": {
                "height": 0.8,
                "width": 0.8,
                "x": 0.1,
                "y": 0.1
              },
              "content": {
                "cell": "007f0881-3c51-4917-a240-1f116e9fae5a",
                "part": "whole"
              },
              "id": "537b090d-c4bb-4ee0-a833-428c4c844595"
            }
          }
        },
        "5dfc3530-5606-47b4-bac8-0e0a486fdac9": {
          "id": "5dfc3530-5606-47b4-bac8-0e0a486fdac9",
          "prev": "4f35be28-2fcd-46a4-b5a3-fe55a597adfd",
          "regions": {
            "99424017-13b7-41b3-92b3-ca4a7fe4420a": {
              "attrs": {
                "height": 0.8,
                "width": 0.8,
                "x": 0.1,
                "y": 0.1
              },
              "content": {
                "cell": "fb623811-b04a-4d47-af02-0cd3cec98fe6",
                "part": "whole"
              },
              "id": "99424017-13b7-41b3-92b3-ca4a7fe4420a"
            }
          }
        },
        "629563e2-8a4d-430e-b34d-1a4b571ebcea": {
          "id": "629563e2-8a4d-430e-b34d-1a4b571ebcea",
          "prev": "263d6249-cc7a-4aea-9cfa-6617d85c17e6",
          "regions": {
            "7231e74f-1f96-4232-9cbd-90d4b4d5ff85": {
              "attrs": {
                "height": 0.8,
                "width": 0.8,
                "x": 0.1,
                "y": 0.1
              },
              "content": {
                "cell": "8d1c2eb3-1201-498b-b32a-497e637c14a8",
                "part": "whole"
              },
              "id": "7231e74f-1f96-4232-9cbd-90d4b4d5ff85"
            }
          }
        },
        "7475f926-f89b-42f0-8015-429173586f4c": {
          "id": "7475f926-f89b-42f0-8015-429173586f4c",
          "prev": "ae862604-31f3-4c8c-a167-8a0589451087",
          "regions": {
            "a066f518-4006-4745-a05d-55a724a6a3c3": {
              "attrs": {
                "height": 0.8,
                "width": 0.8,
                "x": 0.1,
                "y": 0.1
              },
              "content": {
                "cell": "12ebd12c-de0d-49fc-85cf-34c577d92e67",
                "part": "whole"
              },
              "id": "a066f518-4006-4745-a05d-55a724a6a3c3"
            }
          }
        },
        "756d45cc-ddef-4bab-b5da-ded2e63922ff": {
          "id": "756d45cc-ddef-4bab-b5da-ded2e63922ff",
          "prev": "90aa1e90-3ede-4b9b-9669-b56ae40d3db9",
          "regions": {
            "765ab9b4-2254-4619-b548-caa0ab66f7c1": {
              "attrs": {
                "height": 0.8,
                "width": 0.8,
                "x": 0.1,
                "y": 0.1
              },
              "content": {
                "cell": "3b3a3e98-01cc-48f4-8438-eb41337b7304",
                "part": "whole"
              },
              "id": "765ab9b4-2254-4619-b548-caa0ab66f7c1"
            }
          }
        },
        "89942d57-ec75-4422-8640-62f46f514cbc": {
          "id": "89942d57-ec75-4422-8640-62f46f514cbc",
          "prev": "2b528880-956d-4a77-bc69-57453e9d090c",
          "regions": {
            "36e974df-3740-475f-9735-55326420feb8": {
              "attrs": {
                "height": 0.8,
                "width": 0.8,
                "x": 0.1,
                "y": 0.1
              },
              "content": {
                "cell": "f2f60dbd-7be9-4de7-927a-010e92eae10d",
                "part": "whole"
              },
              "id": "36e974df-3740-475f-9735-55326420feb8"
            }
          }
        },
        "8be7057d-0f78-48a0-8d0f-177221287eb7": {
          "id": "8be7057d-0f78-48a0-8d0f-177221287eb7",
          "prev": "89942d57-ec75-4422-8640-62f46f514cbc",
          "regions": {
            "cc46965a-9581-464a-8f1a-74c5630d6e49": {
              "attrs": {
                "height": 0.8,
                "width": 0.8,
                "x": 0.1,
                "y": 0.1
              },
              "content": {
                "cell": "28bcc5d9-2f18-4692-9b74-69ba03d2d736",
                "part": "whole"
              },
              "id": "cc46965a-9581-464a-8f1a-74c5630d6e49"
            }
          }
        },
        "8d64b922-1033-4abd-a055-ddeb2c4e7eae": {
          "id": "8d64b922-1033-4abd-a055-ddeb2c4e7eae",
          "prev": "e14ca282-9249-4eb1-8955-c492117fcf80",
          "regions": {
            "16343b66-ba3b-4f10-93dd-174441d44548": {
              "attrs": {
                "height": 0.8,
                "width": 0.8,
                "x": 0.1,
                "y": 0.1
              },
              "content": {
                "cell": "183fbe85-0dbc-413a-9516-e5475b071825",
                "part": "whole"
              },
              "id": "16343b66-ba3b-4f10-93dd-174441d44548"
            }
          }
        },
        "90aa1e90-3ede-4b9b-9669-b56ae40d3db9": {
          "id": "90aa1e90-3ede-4b9b-9669-b56ae40d3db9",
          "prev": "003ac640-a8f5-4c8b-b027-0e6ac5aeadf1",
          "regions": {
            "61663704-4d58-4eaa-a447-d994a52948b5": {
              "attrs": {
                "height": 0.8,
                "width": 0.8,
                "x": 0.1,
                "y": 0.1
              },
              "content": {
                "cell": "3b20cbb7-f983-4363-868d-d6c55d4d5cb5",
                "part": "whole"
              },
              "id": "61663704-4d58-4eaa-a447-d994a52948b5"
            }
          }
        },
        "a5e88670-b948-4f96-9e83-cdcc468b1497": {
          "id": "a5e88670-b948-4f96-9e83-cdcc468b1497",
          "prev": "756d45cc-ddef-4bab-b5da-ded2e63922ff",
          "regions": {
            "b2641fbc-b1cd-4d5b-8cbb-d20fe8f8ed0c": {
              "attrs": {
                "height": 0.8,
                "width": 0.8,
                "x": 0.1,
                "y": 0.1
              },
              "content": {
                "cell": "a409fa73-0f40-4da8-9604-1ed13470f072",
                "part": "whole"
              },
              "id": "b2641fbc-b1cd-4d5b-8cbb-d20fe8f8ed0c"
            }
          }
        },
        "ae862604-31f3-4c8c-a167-8a0589451087": {
          "id": "ae862604-31f3-4c8c-a167-8a0589451087",
          "prev": "af6a2d33-8f4d-4f7f-8013-a25782a68307",
          "regions": {
            "c4b5c96a-e96a-465a-bb96-b168f9bc78a4": {
              "attrs": {
                "height": 0.8,
                "width": 0.8,
                "x": 0.1,
                "y": 0.1
              },
              "content": {
                "cell": "12ec6fd0-6959-4ae7-9ec1-f9067deaff51",
                "part": "whole"
              },
              "id": "c4b5c96a-e96a-465a-bb96-b168f9bc78a4"
            }
          }
        },
        "af6a2d33-8f4d-4f7f-8013-a25782a68307": {
          "id": "af6a2d33-8f4d-4f7f-8013-a25782a68307",
          "prev": "5dfc3530-5606-47b4-bac8-0e0a486fdac9",
          "regions": {
            "48bf757d-827a-4fc0-bfbf-688a1c7d4ea8": {
              "attrs": {
                "height": 0.8,
                "width": 0.8,
                "x": 0.1,
                "y": 0.1
              },
              "content": {
                "cell": "a5b1917d-b79a-4d22-911c-7a24dcecdb7d",
                "part": "whole"
              },
              "id": "48bf757d-827a-4fc0-bfbf-688a1c7d4ea8"
            }
          }
        },
        "d21bc81d-3e18-44ce-9022-0eeddbbfdcb2": {
          "id": "d21bc81d-3e18-44ce-9022-0eeddbbfdcb2",
          "prev": "8be7057d-0f78-48a0-8d0f-177221287eb7",
          "regions": {
            "a0d5d2d6-22a3-44a4-a469-5df3136014b8": {
              "attrs": {
                "height": 0.8,
                "width": 0.8,
                "x": 0.1,
                "y": 0.1
              },
              "content": {
                "cell": "24d704ad-05f0-4cdf-882f-6d62b76cb013",
                "part": "whole"
              },
              "id": "a0d5d2d6-22a3-44a4-a469-5df3136014b8"
            }
          }
        },
        "d26f277e-13ce-4ba4-863f-f80890aa89c2": {
          "id": "d26f277e-13ce-4ba4-863f-f80890aa89c2",
          "prev": "f0bbe2b4-6625-48e3-a7cc-a08713827f82",
          "regions": {
            "8582c75c-cee0-48ff-8c27-b46d7b410013": {
              "attrs": {
                "height": 0.8,
                "width": 0.8,
                "x": 0.1,
                "y": 0.1
              },
              "content": {
                "cell": "66396899-f4bc-4ebe-a077-6ec5e7d6f072",
                "part": "whole"
              },
              "id": "8582c75c-cee0-48ff-8c27-b46d7b410013"
            }
          }
        },
        "d9681443-ffd4-430c-91a0-393e3ee9999c": {
          "id": "d9681443-ffd4-430c-91a0-393e3ee9999c",
          "prev": "55ed7ebd-6236-4e2a-9c81-4f7893bd521f",
          "regions": {
            "c9b9d00d-d7e4-4c73-bc48-6a649b3ff069": {
              "attrs": {
                "height": 0.8,
                "width": 0.8,
                "x": 0.1,
                "y": 0.1
              },
              "content": {
                "cell": "502eb46a-ce90-449c-8036-34bbc4124eb3",
                "part": "whole"
              },
              "id": "c9b9d00d-d7e4-4c73-bc48-6a649b3ff069"
            }
          }
        },
        "db6ec664-6432-48b8-9e85-c4ad92c452df": {
          "id": "db6ec664-6432-48b8-9e85-c4ad92c452df",
          "prev": "d21bc81d-3e18-44ce-9022-0eeddbbfdcb2",
          "regions": {
            "d0bf8a30-7fad-4807-bce8-5241930f699a": {
              "attrs": {
                "height": 0.8,
                "width": 0.8,
                "x": 0.1,
                "y": 0.1
              },
              "content": {
                "cell": "08fc67ec-76b1-418d-9d24-410fb46c8320",
                "part": "whole"
              },
              "id": "d0bf8a30-7fad-4807-bce8-5241930f699a"
            }
          }
        },
        "e14ca282-9249-4eb1-8955-c492117fcf80": {
          "id": "e14ca282-9249-4eb1-8955-c492117fcf80",
          "prev": "d9681443-ffd4-430c-91a0-393e3ee9999c",
          "regions": {
            "bfc2409b-262c-4fea-9d82-4a81a1bf96a4": {
              "attrs": {
                "height": 0.8,
                "width": 0.8,
                "x": 0.1,
                "y": 0.1
              },
              "content": {
                "cell": "80ce218c-e4c6-4ada-8a50-acacb9861ecc",
                "part": "whole"
              },
              "id": "bfc2409b-262c-4fea-9d82-4a81a1bf96a4"
            }
          }
        },
        "f0ac56f7-b949-4bfb-9d58-5f21384631c7": {
          "id": "f0ac56f7-b949-4bfb-9d58-5f21384631c7",
          "prev": "d26f277e-13ce-4ba4-863f-f80890aa89c2",
          "regions": {
            "c0663418-f0d7-4524-8c26-2fc5af9c5dc8": {
              "attrs": {
                "height": 0.8,
                "width": 0.8,
                "x": 0.1,
                "y": 0.1
              },
              "content": {
                "cell": "c0f6ee87-2c35-48a4-836b-24a5e5827f99",
                "part": "whole"
              },
              "id": "c0663418-f0d7-4524-8c26-2fc5af9c5dc8"
            }
          }
        },
        "f0bbe2b4-6625-48e3-a7cc-a08713827f82": {
          "id": "f0bbe2b4-6625-48e3-a7cc-a08713827f82",
          "prev": "a5e88670-b948-4f96-9e83-cdcc468b1497",
          "regions": {
            "45216f6b-0f62-4367-80c9-5a280b55920c": {
              "attrs": {
                "height": 0.8,
                "width": 0.8,
                "x": 0.1,
                "y": 0.1
              },
              "content": {
                "cell": "7d695135-5b1c-417d-be91-48947121f05e",
                "part": "whole"
              },
              "id": "45216f6b-0f62-4367-80c9-5a280b55920c"
            }
          }
        }
      },
      "themes": {}
    },
    "colab": {
      "name": "HW1.ipynb",
      "provenance": [],
      "collapsed_sections": [],
      "include_colab_link": true
    }
  },
  "cells": [
    {
      "cell_type": "markdown",
      "metadata": {
        "id": "view-in-github",
        "colab_type": "text"
      },
      "source": [
        "<a href=\"https://colab.research.google.com/github/NicolasZucker/NicolasZucker/blob/main/HW1FINALZUCKER.ipynb\" target=\"_parent\"><img src=\"https://colab.research.google.com/assets/colab-badge.svg\" alt=\"Open In Colab\"/></a>"
      ]
    },
    {
      "cell_type": "markdown",
      "metadata": {
        "nbpresent": {
          "id": "41110e57-97d0-4804-9dd1-1b45e3b94408"
        },
        "id": "WTU3bQjbhHNG"
      },
      "source": [
        "# <center> Homework : Errors in Markov Chains and PageRank</center>\n",
        "\n",
        "\n",
        "\n",
        "The goal of this homework is twofold: in the first part you should evaluate errors in Markov chain Monte Carlo. In the second part you study PageRank algorithm."
      ]
    },
    {
      "cell_type": "markdown",
      "metadata": {
        "id": "yzPYxUYZhHNI"
      },
      "source": [
        "## <center> Part I: Markov Chain Monte Carlo</center>"
      ]
    },
    {
      "cell_type": "code",
      "metadata": {
        "id": "mBkOi9UOp7CL"
      },
      "source": [
        "import numpy as np\n",
        "import itertools as it\n",
        "import matplotlib.pylab as plt"
      ],
      "execution_count": 3,
      "outputs": []
    },
    {
      "cell_type": "markdown",
      "metadata": {
        "nbpresent": {
          "id": "f2f60dbd-7be9-4de7-927a-010e92eae10d"
        },
        "id": "guBR-OgJhHNK"
      },
      "source": [
        "### **A particle on the top of a Mexican hat**\n",
        "\n",
        "We consider a particle on the xy plane confined by a two dimensional external potential:\n",
        "$$V(\\vec{r}) = r^4 - 8 r^2$$\n",
        "where $\\vec{r}=(x,y)$ and $r=\\sqrt{x^2+y^2}$ identifies the particle position and its distance from the origin. We assume the particle is in equilibrium at temperature $T=1$ and then described by the Boltzmann weight:\n",
        "$$\\pi(\\vec{r}) \\propto e^{-V(\\vec{r})}$$\n",
        "We are interested on two quantities: \n",
        "\n",
        "* Observable A: the average distance from the origin $\\langle r\\rangle$. \n",
        "\n",
        "* Observable B: the average horizontal coordinate $\\langle x \\rangle$.\n",
        "\n",
        "with\n",
        "$$ \\langle \\ldots \\rangle = \\frac{\\int d \\vec{r} \\ldots e^{-V(\\vec{r})}}{\\int d \\vec{r} e^{-V(\\vec{r})}}$$\n",
        "\n",
        "\n",
        "### **The Markov Chain Algorithm**\n",
        "\n",
        "Write a Metropolis algorithm sampling the particle position $\\vec{r}$: \n",
        "\n",
        "* Set the particle jump uniformly distributed inside a square of side 2 using python function random.uniform(-1,1) \n",
        "\n",
        "* Run a unique long simulation and record at least $N_{\\text{trials}}=2^{20}$ positions $\\vec{r}$.\n"
      ]
    },
    {
      "cell_type": "markdown",
      "metadata": {
        "id": "BqfHpEzMhHNN"
      },
      "source": [
        "### <center> Questions</center>\n",
        "\n",
        "* **Question 1**: Implement the correct Metropolis Algorithm. Show the histograms of the two observables."
      ]
    },
    {
      "cell_type": "code",
      "metadata": {
        "colab": {
          "base_uri": "https://localhost:8080/",
          "height": 608
        },
        "id": "KSOFMjPpwSLp",
        "outputId": "5293f794-c5e6-4e52-cd76-5917196b5a1f"
      },
      "source": [
        "# weight for even and odd cells\n",
        "def weight(x,y):\n",
        "  r2=x*x+y*y;\n",
        "  return np.exp(-r2*r2-8*r2)\n",
        "\n",
        "L=[0];\n",
        "Xl=[0]\n",
        "nrep=2**20;\n",
        "x=0;\n",
        "y=0;\n",
        "\n",
        "for k in range(nrep):\n",
        "    dx=np.random.uniform(-1,1);\n",
        "    dy=np.random.uniform(-1,1);\n",
        "    Pacc=min(1, weight(x+dx,y+dy) / weight(x,y))\n",
        "    a=np.random.uniform(0,1);\n",
        "    if a<Pacc :\n",
        "      x=x+dx;\n",
        "      y=y+dy;\n",
        "    L.append(x*x+y*y);\n",
        "    Xl.append(x)\n",
        "\n",
        "print(\"The mean of the radius R i\",np.mean(L))\n",
        "\n",
        "\n",
        "\n",
        "print(\"The mean of the X position i\",np.mean(Xl))\n",
        "\n",
        "plt.hist(L,bins=30)\n",
        "plt.title(\"Histogram of r\")\n",
        "plt.xlabel('Distance to the center of the map')\n",
        "plt.ylabel('Number of ocurances')\n",
        "\n",
        "plt.show()\n",
        "\n",
        "plt.hist(Xl,bins=30)\n",
        "\n",
        "plt.title(\"Histogram for X\")\n",
        "plt.xlabel('the average horizontal coordinate  ⟨x⟩')\n",
        "plt.ylabel('Number of ocurances')\n",
        "plt.show()"
      ],
      "execution_count": null,
      "outputs": [
        {
          "output_type": "stream",
          "name": "stdout",
          "text": [
            "The mean of the radius R i 0.11751076412896864\n",
            "The mean of the X position i 0.000338079804743544\n"
          ]
        },
        {
          "output_type": "display_data",
          "data": {
            "image/png": "[encoded data removed]",
            "text/plain": [
              "<Figure size 432x288 with 1 Axes>"
            ]
          },
          "metadata": {
            "needs_background": "light"
          }
        },
        {
          "output_type": "display_data",
          "data": {
            "image/png": "[encoded data removed]",
            "text/plain": [
              "<Figure size 432x288 with 1 Axes>"
            ]
          },
          "metadata": {
            "needs_background": "light"
          }
        }
      ]
    },
    {
      "cell_type": "markdown",
      "metadata": {
        "id": "c44R9vPyhHNO"
      },
      "source": [
        "#### Answer space \n",
        "\n",
        "A program and two labeled figures are expected to answer this question.\n",
        "\n",
        "----------------------------------------------------------------------------------------------"
      ]
    },
    {
      "cell_type": "markdown",
      "metadata": {
        "id": "8A0GgoXFhHNo"
      },
      "source": [
        "\n",
        "* **Question 2**:  Implement the bunching method  on the data of the two observables. Provide an estimation of the correlation time using previous figures. \n"
      ]
    },
    {
      "cell_type": "code",
      "metadata": {
        "colab": {
          "base_uri": "https://localhost:8080/",
          "height": 749
        },
        "id": "uuKFnSkUVM5g",
        "outputId": "106060b1-b085-4643-f8ec-f00a12918a63"
      },
      "source": [
        "#Estimation of the correlation time\n",
        "Lwk=L[:];\n",
        "st=[]\n",
        "data=Lwk\n",
        "\n",
        "\n",
        "for k in range(200) :\n",
        "  new_list = []\n",
        "  c=0;\n",
        "  for i in range(int(len(Lwk)/2)):\n",
        "      new_list.append((Lwk[c]+Lwk[c+1])/2)\n",
        "      c+=2\n",
        "  err=np.std((new_list))/(len(new_list)**(1/2));\n",
        "  st.append(err)\n",
        "  \n",
        "  Lwk=new_list\n",
        "\n",
        "\n",
        "plt.plot(st,'x')\n",
        "plt.title(\"Evolution of the apparent error of the radius list with the number of benching\")\n",
        "plt.xlabel(\"Apparent error\")\n",
        "plt.xlabel(\"Number of benching\")\n",
        "plt.show()\n",
        "\n",
        "print(\"If we consider that the correlation time is the first benching number from which we reach the plateau : we have Tr=12 \")\n",
        "\n",
        "\n",
        "#Estimation of the correlation time\n",
        "Lwk=Xl[:];\n",
        "st=[]\n",
        "data=Lwk\n",
        "\n",
        "\n",
        "for k in range(200) :\n",
        "  new_list = []\n",
        "  c=0;\n",
        "  for i in range(int(len(Lwk)/2)):\n",
        "      new_list.append((Lwk[c]+Lwk[c+1])/2)\n",
        "      c+=2\n",
        "  err=np.std((new_list))/(len(new_list)**(1/2));\n",
        "  st.append(err)\n",
        "  \n",
        "  Lwk=new_list\n",
        "\n",
        "\n",
        "plt.plot(st,'x')\n",
        "plt.title(\"Evolution of the apparent error of the X list with the number of benching\")\n",
        "plt.xlabel(\"Apparent error\")\n",
        "plt.xlabel(\"Number of benching\")\n",
        "plt.show()\n",
        "\n",
        "print(\"If we consider that the correlation time is the first benching number from which we reach the plateau : we have Tr=10 \")\n",
        "\n",
        "print(\"I expected that the correlation tiem would be higher for R than for X. Indeed we may think that as R in a 2D variable, it is harder for it to decorelate from an initial position. This is a phenomenon that we can also see from this point og view : in 2D it's harder for a random walk to come back to the initial position than in 1D\")"
      ],
      "execution_count": null,
      "outputs": [
        {
          "output_type": "stream",
          "name": "stderr",
          "text": [
            "/usr/local/lib/python3.7/dist-packages/numpy/core/_methods.py:234: RuntimeWarning: Degrees of freedom <= 0 for slice\n",
            "  keepdims=keepdims)\n",
            "/usr/local/lib/python3.7/dist-packages/numpy/core/_methods.py:195: RuntimeWarning: invalid value encountered in true_divide\n",
            "  arrmean, rcount, out=arrmean, casting='unsafe', subok=False)\n",
            "/usr/local/lib/python3.7/dist-packages/numpy/core/_methods.py:226: RuntimeWarning: invalid value encountered in double_scalars\n",
            "  ret = ret.dtype.type(ret / rcount)\n"
          ]
        },
        {
          "output_type": "display_data",
          "data": {
            "image/png": "[encoded data removed]",
            "text/plain": [
              "<Figure size 432x288 with 1 Axes>"
            ]
          },
          "metadata": {
            "needs_background": "light"
          }
        },
        {
          "output_type": "stream",
          "name": "stdout",
          "text": [
            "If we consider that the correlation time is the first benching number from which we reach the plateau : we have Tr=12 \n"
          ]
        },
        {
          "output_type": "display_data",
          "data": {
            "image/png": "[encoded data removed]",
            "text/plain": [
              "<Figure size 432x288 with 1 Axes>"
            ]
          },
          "metadata": {
            "needs_background": "light"
          }
        },
        {
          "output_type": "stream",
          "name": "stdout",
          "text": [
            "If we consider that the correlation time is the first benching number from which we reach the plateau : we have Tr=10 \n",
            "I expected that the correlation tiem would be higher for R than for X. Indeed we may think that as R in a 2D variable, it is harder for it to decorelate from an initial position. This is a phenomenon that we can also see from this point og view : in 2D it's harder for a random walk to come back to the initial position than in 1D\n"
          ]
        }
      ]
    },
    {
      "cell_type": "markdown",
      "metadata": {
        "id": "fXt3qbNjhHNo"
      },
      "source": [
        "#### Answer space  (two figures are expected)\n",
        "\n",
        "$$ \\tau_x \\approx ?? $$\n",
        "\n",
        "$$ \\tau_r \\approx ?? $$\n",
        "\n",
        "Is the correlation time different for the two observables? Why? (be concise)\n",
        "\n",
        "----------------------------------------------------------------------------------------------"
      ]
    },
    {
      "cell_type": "markdown",
      "metadata": {
        "id": "5HWLqqVChHNq"
      },
      "source": [
        "\n",
        "* **Question 3**: Provide the estimation of both observables with their statistical erorrs:\n"
      ]
    },
    {
      "cell_type": "code",
      "metadata": {
        "id": "7sKDuN0tc2Yt",
        "colab": {
          "base_uri": "https://localhost:8080/"
        },
        "outputId": "5767299e-0b43-4514-e0cd-7e9940789f99"
      },
      "source": [
        "print(\"If we consider that the true error is the value of the error when the benching reach the plateau : we have Error on R= 0.0004 \")\n",
        "print(\"⟨r⟩= 0.118 ± 0.0004\")\n",
        "\n",
        "print(\"If we consider that the true error is the value of the error when the benching reach the plateau : we have Error on X= 0.0007 \")\n",
        "print(\"⟨r⟩= 0.000 ± 0.0007\")"
      ],
      "execution_count": null,
      "outputs": [
        {
          "output_type": "stream",
          "name": "stdout",
          "text": [
            "If we consider that the true error is the value of the error when the benching reach the plateau : we have Error on R= 0.0004 \n",
            "⟨r⟩= 0.118 ± 0.0004\n",
            "If we consider that the true error is the value of the error when the benching reach the plateau : we have Error on X= 0.0007 \n",
            "⟨r⟩= 0.000 ± 0.0007\n"
          ]
        }
      ]
    },
    {
      "cell_type": "markdown",
      "metadata": {
        "id": "-moXOTRihHNv"
      },
      "source": [
        "#### Answer space \n",
        "\n",
        "$$ \\langle x\\rangle =  ?? \\pm  ?? $$\n",
        "\n",
        "$$\\langle r\\rangle = ?? \\pm  ?? $$ \n",
        "\n",
        "----------------------------------------------------------------------------------------------"
      ]
    },
    {
      "cell_type": "markdown",
      "metadata": {
        "id": "hsQnLTfxhHNw"
      },
      "source": [
        "The output of the previous program is a long list of correlated data: $x_0,x_1,\\dots,x_i,\\ldots$ and $r_0,r_1,\\dots,r_i,\\ldots$ \\\\\n",
        "For both observables one can study statistical correlations via the following autocorrelation functions \n",
        "\n",
        "$$C_r(n)= \\langle (r_i-\\langle r\\rangle)(r_{i+n}-\\langle r\\rangle)\\rangle $$\n",
        "\n",
        "$$ C_x(n)= \\langle (x_i-\\langle x\\rangle)(x_{i+n}-\\langle x\\rangle)\\rangle $$\n",
        "\n",
        "Here we consider a single long Markov chain so that both $C_r(n)$ and $C_x(n)$ are independent of $i$, so that the stationary limit is reached.\n",
        "\n",
        "* **Question 4**: Estimate numerically both $C_r(n)$ and $C_x(n)$ for $n=0,1,\\ldots, n_{\\text{range}}$. \\\\\n",
        "In order to observe the decay of the correlations to zero, we need to employ a sufficiently large value for $n_\\text{range}$. If $n_\\text{range}$ is smaller   than the correlation time of the observables, the decay to zero cannot be observed. On the other hand, assigning $n_{\\text{range}}\\approx N_{\\text trials}$ would result in strong fluctuations due to the lack of statistics. Try to find a good value of $n_{\\text{range}}$ for each observable."
      ]
    },
    {
      "cell_type": "code",
      "metadata": {
        "id": "xVjkDn6dfewk"
      },
      "source": [
        ""
      ],
      "execution_count": null,
      "outputs": []
    },
    {
      "cell_type": "markdown",
      "metadata": {
        "id": "bn6xFngKhHOD"
      },
      "source": [
        "#### Answer space\n",
        "A program for the data analysis with two nice linear plots. Correct values of $n_{\\text{range}}$ are expected.\n",
        "\n",
        "----------------------------------------------------------------------------------------------"
      ]
    },
    {
      "cell_type": "code",
      "metadata": {
        "colab": {
          "base_uri": "https://localhost:8080/",
          "height": 608
        },
        "id": "bkYcyFJ2ff_a",
        "outputId": "f124a286-0b0a-4d01-dc5a-7a93b1ef33c6"
      },
      "source": [
        "#Estimation of the correlation time\n",
        "C=[]\n",
        "xi=(np.mean(L))\n",
        "nranger=40;\n",
        "for k in range(nranger):\n",
        "  Ck=0\n",
        "  for i in range(nrep-k):\n",
        "    c=(L[i]*L[i+k]);\n",
        "    Ck+=c\n",
        "  \n",
        "  C.append(Ck/(nrep-k)-(xi**2))\n",
        "\n",
        "plt.plot(C,'x')\n",
        "plt.title(\"Evolution of the correlation of r with respect to n\")\n",
        "plt.xlabel(\"Covariance of r\")\n",
        "plt.xlabel(\"n\")\n",
        "plt.show()\n",
        "\n",
        "print(\"If we consider that the correlation time the typical time needed for the correlation to be around 0.001 we can read that Tr=15 \")\n",
        "\n",
        "Cx=[]\n",
        "nrangeX=30;\n",
        "for k in range(nrangeX):\n",
        "  Ck=0\n",
        "  for i in range(nrep-k):\n",
        "    Ck+=Xl[i]*Xl[i+k];\n",
        "  \n",
        "  Cx.append(Ck/(nrep-k))\n",
        "\n",
        "plt.plot(Cx,'x')\n",
        "plt.title(\"Evolution of the correlation of x with respect to n\")\n",
        "plt.xlabel(\"Covariance of x\")\n",
        "plt.xlabel(\"n\")\n",
        "plt.show()\n",
        "\n",
        "\n",
        "print(\"If we consider that the correlation time the typical time needed for the correlation to be around 0.001 we can read that Tx=7 \")\n"
      ],
      "execution_count": null,
      "outputs": [
        {
          "output_type": "display_data",
          "data": {
            "image/png": "[encoded data removed]",
            "text/plain": [
              "<Figure size 432x288 with 1 Axes>"
            ]
          },
          "metadata": {
            "needs_background": "light"
          }
        },
        {
          "output_type": "stream",
          "name": "stdout",
          "text": [
            "If we consider that the correlation time the typical time needed for the correlation to be around 0.001 we can read that Tr=15 \n"
          ]
        },
        {
          "output_type": "display_data",
          "data": {
            "image/png": "[encoded data removed]",
            "text/plain": [
              "<Figure size 432x288 with 1 Axes>"
            ]
          },
          "metadata": {
            "needs_background": "light"
          }
        },
        {
          "output_type": "stream",
          "name": "stdout",
          "text": [
            "If we consider that the correlation time the typical time needed for the correlation to be around 0.001 we can read that Tx=7 \n"
          ]
        }
      ]
    },
    {
      "cell_type": "markdown",
      "metadata": {
        "id": "gu7f2IcChHOD"
      },
      "source": [
        " \n",
        "* **Question 5**: Check numerically if the errors obtained using the following formula \n",
        "\n",
        "$$ \\text{error} = \\sqrt{\\frac{C(0) + 2 \\sum_{n=1}^{n_{\\text{range}}} C(n)}{N_{\\text{trials}}}} $$\n",
        "\n",
        "are consistent with the results obtained using the bunching method"
      ]
    },
    {
      "cell_type": "code",
      "metadata": {
        "id": "SKDGmOBkfGTJ",
        "colab": {
          "base_uri": "https://localhost:8080/"
        },
        "outputId": "4187e653-8168-46e2-dc13-c63216e16d59"
      },
      "source": [
        "\n",
        "print(\"The error with this formula for R is\")\n",
        "\n",
        "print(((C[0]+2*np.sum(C[1:]))/len(C))**(1/2))\n",
        "\n",
        "print(\"The error with this formula for X is\")\n",
        "\n",
        "print(((Cx[0]+2*np.sum(Cx[1:]))/len(Cx))**(1/2))\n",
        "\n",
        "print(\"Thoose resultst are sadly not consistent with the previous ones\")"
      ],
      "execution_count": null,
      "outputs": [
        {
          "output_type": "stream",
          "name": "stdout",
          "text": [
            "The error with this formula for R is\n",
            "0.0630974394715334\n",
            "The error with this formula for X is\n",
            "0.12979754961694184\n",
            "Thoose resultst are sadly not consistent with the previous ones\n"
          ]
        }
      ]
    },
    {
      "cell_type": "markdown",
      "metadata": {
        "id": "J5kFc94mhHOE"
      },
      "source": [
        "#### Answer space \n",
        "\n",
        "$$ \\langle x\\rangle = ?? \\pm ?? $$\n",
        "\n",
        "$$\\langle r\\rangle = ?? \\pm ?? $$\n",
        "\n",
        "This result is (or not is) consistent with the error found with the bunching method.\n",
        "\n",
        "--------------------------------"
      ]
    },
    {
      "cell_type": "markdown",
      "metadata": {
        "id": "Nu9atNJIhHOF"
      },
      "source": [
        "## <center>Part II:  Markov chain and Google's PageRank </center>"
      ]
    },
    {
      "cell_type": "markdown",
      "metadata": {
        "id": "U9LFX8OFhHOG"
      },
      "source": [
        "### **References**\n",
        "\n",
        "* <a href=\"http://infolab.stanford.edu/~backrub/google.html\">The original PageRank paper by Google’s founders Sergey Brin and Lawrence Page</a>\n",
        "* A useful lecture is the <a href=\"http://infolab.stanford.edu/~ullman/mmds/ch5.pdf\">Chap. 5 of Mining of Massive Datasets by J. Leskovec, A. Rajaraman, J. Ullman</a>\n",
        "\n",
        "In the first lecture, we introduced the MCMC (Markov Chain Monte Carlo) and its most famous representative : the Metropolis algorithm. We also discussed the properties of the transition (or Markov) matrix and the convergence of the MCMC. Here we will see a second and very important application of the transition matrix: the PageRank.\n",
        "\n",
        "### **History**\n",
        "\n",
        "The World Wide Web was born in the nineties and grew up very fast. There were 623 web sites in 1993, more than one million in 1997, and today we can count more than a billion of web sites. How do you find your desired web page in such a jungle?\n",
        "\n",
        "At the end of the nineties the most popular search engines, like AltaVista or Yahoo!, were focused on the relevance of some keywords: a short list of results was obtained by estimating the number of occurrence and the location (title, abstract, main text...) of the keywords in the document. Unfortunately spam sites were able to find their way to get in that list by repeating many keywords. In 1997, the top search results of the keyword 'Titanic' contained a small fraction of sites dedicated to the actual sad story of the British passenger liner or the movie with Leo Di Caprio and Kate Winslet.\n",
        "\n",
        "To fight against spam, two students of Standford, Brin and Page, proposed as a solution to this problem PageRank, an algorithm that establishes the importance of a web site using transition matrix theory. Thanks to this idea, Brin and Page founded in 1998 a new company: Google.\n",
        "\n",
        "### **The Idea**\n",
        "\n",
        "The World Wide Web has the topological structure of an oriented graph: a site can link to (and be linked by) other sites. \n",
        "\n",
        "In their original paper Brin and Page imagine a Random Surfer that at each time-step moves from a visited page to a new one by selecting at random one of the possible links. The PageRank of the WWW is given by the occupation probabilities of the sites in the stationary state.\n",
        "\n",
        "### **The PageRank algorithm**\n",
        "\n",
        "Consider a site $a$ that links to list of sites, that we call neighbor$[a]=[a_1,a_2,\\ldots]$. For an oriented graph the fact that $a_1$ is in the list of neighbor$[a]$ does not imply that  $a$ is in the list of neighbor$[a_1]$. We define \n",
        "* the **out-degree**, $K_a^{\\text{out}}$, the number of outgoing links from $a$:\n",
        "$$ K_a^{\\text{out}} = \\text{len}(\\text{neighbor}[a])$$\n",
        "* the **in-degree**  , $K_a^{\\text{in}}$, the number of links that points the site $a$.\n",
        "\n",
        "\n",
        "The Markov matrix $T$ for a random  surfer is such that the matrix  element\n",
        "$T_{ba}$, corresponding to the move from $a\\to b$, is:\n",
        "$$ T_{ba} =\n",
        "\\begin{cases}\n",
        "1/K_a^{\\text{out}} &\\text{if} \\;  b \\in \\text{neighbor}[a] \\\\\n",
        "\\\\\n",
        "0  & \\text{otherwise}\n",
        "\\end{cases}\n",
        "$$\n",
        "We first define the PageRank of the graph as the stationary state, $\\pi = T \\pi$. In particular the PageRank (namely the score) associated to a site $a$ is\n",
        "$\\text{PR}(a)= \\pi_a$.   Starting from the general global balance equation\n",
        "$$  \\sum_{b\\ne a} \\pi_a p_{a \\to b} = \\sum_{b\\ne a} \\pi_b p_{b \\to a} =  \\sum_{b} \\pi_a T_{ba} = \\sum_{b} \\pi_b T_{ab}$$\n",
        "You can show the validity of the PageRank equation written by Page and Brin\n",
        "$$ \\text{PR}(a) = \\sum_{a \\in \\text{neighbor}[b]} \\frac{\\text{PR}(b)}{K_b^{\\text{out}}} $$"
      ]
    },
    {
      "cell_type": "markdown",
      "metadata": {
        "id": "Fc97Yxo7hHOI"
      },
      "source": [
        "### The 3x3 pebble game with PageRank\n",
        "\n",
        "To provide a concrete example consider again the traditional $3\\times 3$ pebble game but implement the PageRank algorithm instead of the Metropolis algorithm.\n",
        "\n",
        "**Question 6**\n",
        "* Find the stationary state of this specific Markov chain. Are the position still evenly sampled?\n",
        "* By studying the spectrum of the Markov matrix, determine the properties of the Markov chain (periodic or aperiodic, reducible or irreducible).\n",
        "\n",
        "**Code remainder** \\\\\n",
        "We recall that in Python/Numpy it is possible to create a matrix easily. Say that we have a Markov chain with two states, $a$ and $b$, with the following transition probabilities:\n",
        "$$p_{a \\to a} = 0.3 \\quad p_{a \\to b} = 0.7$$\n",
        "$$p_{b \\to a} = 0.5 \\quad p_{a \\to b} = 0.5$$\n",
        "The transition matrix $P$ will be constructed as follows:\n",
        "\n",
        "```\n",
        "P = np.array([[0.3, 0.5],[0.7, 0.5]])\n",
        "```\n",
        "\n",
        "Numpy (accessed through np.) constructs explicity matrices by passing a list of the rows. Of course this can help when the matrix is not too big, otherwise different methods must be adopted. If one wants to pass the columns can use the transpose operation .T (notice it at the end of np.array(...))\n",
        "\n",
        "```\n",
        "P = np.array([[0.3, 0.7],[0.5, 0.5]]).T\n",
        "```"
      ]
    },
    {
      "cell_type": "markdown",
      "metadata": {
        "id": "was-gsJLyKqe"
      },
      "source": [
        "**Answer space**\n",
        "\n",
        "* The stationary state for PageRank is (a program is expected)\n",
        "\n",
        "$$ \\pi(1)=?? ,\\pi(2)=?? ,\\pi(3)=??, \\pi(4)=??,\\pi(5)=??,\\pi(6)=??,\n",
        "\\pi(7)=?? ,\\pi(8)=?? ,\\pi(9)= ?? $$\n",
        "\n",
        "* The PageRank version of the $3\\times 3$  is a ?? Markov Chain.\n",
        "\n",
        "--------------------------------------------"
      ]
    },
    {
      "cell_type": "code",
      "metadata": {
        "colab": {
          "base_uri": "https://localhost:8080/"
        },
        "id": "1glmWLGzpASV",
        "outputId": "418f2642-30c6-4aff-ebc4-f4246d618d65"
      },
      "source": [
        "n = 3\n",
        "dim = n**2\n",
        "PageRank = np.zeros([dim,dim])\n",
        "\n",
        "#Definition of the 3x3 Pebble game\n",
        "neighbors = np.zeros([dim, 4], dtype=int)\n",
        "neighbors[0] = [1,3,-1,-1]\n",
        "neighbors[1] = [2,4,0,-1]\n",
        "neighbors[2] = [5,1,-1,-1]\n",
        "neighbors[3] = [4,6,0,-1]\n",
        "neighbors[4] = [5,7,3,1]\n",
        "neighbors[5] = [8,4,2,-1]\n",
        "neighbors[6] = [7,3,-1,-1]\n",
        "neighbors[7] = [8,6,4,-1]\n",
        "neighbors[8] = [7,5,-1,-1]\n",
        "\n",
        "# fill the matrix\n",
        "for k in range(dim):\n",
        "    Kbout=np.sum(neighbors[k, :]>-1) #Number of neighbors\n",
        "    for i in range(len(neighbors[k, :])):\n",
        "      if neighbors[k, i]>-1 :\n",
        "        PageRank[neighbors[k, i], k] += 1/Kbout\n",
        "    \n",
        "#print(PageRank) #Matrix of the Markov chain\n",
        "#print(np.sum(PageRank, axis=0)) #Quick checking if the conservation of probability is satisfied\n",
        "\n",
        "# get eigenvalues and eigenvectors\n",
        "eigvals, eigvects = np.linalg.eig(PageRank)\n",
        "#print(eigvals)\n",
        "\n",
        "norm=np.sum(eigvects[:,0]);\n",
        "# there should be a 1 in the array\n",
        "print(\"π(1)=\",eigvects[0,0]/norm ,\" π(2)=\",eigvects[1,0]/norm,\" π(3)=\",eigvects[2,0]/norm)\n",
        "print(\"π(4)=\",eigvects[3,0]/norm ,\" π(5)=\",eigvects[4,0]/norm,\" π(6)=\",eigvects[5,0]/norm)\n",
        "print(\"π(7)=\",eigvects[6,0]/norm ,\" π(8)=\",eigvects[7,0]/norm,\" π(9)=\",eigvects[8,0]/norm)\n",
        "\n",
        "print(\"The PageRank version of the  3×3  is a Periodic and irreducible Markov Chain.\")\n",
        "\n",
        "print(\"Periodic : We can see from the spectrum that there are two eigenvalues of modulus 1, this is one of the pathologies of the Perron-Frobenius \"\n",
        "\"Theorem : There are two equivalents eigenvectors (one is the opposite of the other, and the eignevalue is -1)\")\n",
        "print(\"Irreducile : The multiplicity of the eigenvalue 1 is 1, we are not in the reducible pathology of the theorem.\")"
      ],
      "execution_count": 5,
      "outputs": [
        {
          "output_type": "stream",
          "name": "stdout",
          "text": [
            "π(1)= (0.08333333333333329+0j)  π(2)= (0.1249999999999999+0j)  π(3)= (0.08333333333333341+0j)\n",
            "π(4)= (0.12499999999999992+0j)  π(5)= (0.16666666666666682+0j)  π(6)= (0.12500000000000006+0j)\n",
            "π(7)= (0.08333333333333333+0j)  π(8)= (0.1249999999999999+0j)  π(9)= (0.08333333333333341+0j)\n",
            "The PageRank version of the  3×3  is a Periodic and irreducible Markov Chain.\n",
            "Periodic : We can see from the spectrum that there are two eigenvalues of modulus 1, this is one of the pathologies of the Perron-Frobenius Theorem : There are two equivalents eigenvectors (one is the opposite of the other, and the eignevalue is -1)\n",
            "Irreducile : The multiplicity of the eigenvalue 1 is 1, we are not in the reducible pathology of the theorem.\n"
          ]
        }
      ]
    },
    {
      "cell_type": "markdown",
      "metadata": {
        "id": "XjMDz7ewhHOM"
      },
      "source": [
        "### Dead Ends and Spider Traps\n",
        "\n",
        "The PageRank described above works if the Markov matrix is irreducible, \n",
        "but several snares are hidden in the WWW: the Surfer can find a **dead end**, \n",
        "    namely a web page that does not contain links, or, even worst, can jump \n",
        "    in a **spider trap**, e.g. a set of nodes with no dead ends but no links with the outside world. \n",
        "\n",
        "The strategy to deal with them is called taxation. It relies on a damping parameter $d$ that we take in the interval $[0,1]$ (here take $d=0.85$) The novel dynamics can be written as\n",
        "$$ \\vec{\\pi}(t+1) = d\\, T\\vec{\\pi}(t) + \\frac{1−d}{n}\\vec{J}\\quad \\text{ where }\\vec{J} = \\begin{pmatrix} 1\\\\ \\vdots \\\\1\\end{pmatrix} $$\n",
        "here $n$ is the total number of web pages (the total number of nodes).\n",
        "One can show that in presence of taxation the PageRank formula writes\n",
        "$$ \\text{PR}(a) = d\\sum_{b \\text{ connected to } a} \\frac{\\text{PR}(b)}{L_b} + \\frac{1−d}{n}  $$\n",
        "Taxation modifies the dynamics of Random Surfers and solves the problem of both spider traps and dead ends. \n",
        "\n",
        "**Question 7:** Provide the PageRank with this prescription and 𝑑=0.85 for the neighbour below.  Identify the dead end or the spider trap.\n",
        "\n",
        "\n"
      ]
    },
    {
      "cell_type": "code",
      "metadata": {
        "id": "cQwr-2_io4jM"
      },
      "source": [
        "neighbor_list = {1 : [2, 3], 2 : [1, 4], 3 : [1, 4], 4 : [2, 3, 5], 5 : [6], 6 : [5]}"
      ],
      "execution_count": 6,
      "outputs": []
    },
    {
      "cell_type": "code",
      "metadata": {
        "id": "MCm88fUxo-Mj",
        "colab": {
          "base_uri": "https://localhost:8080/"
        },
        "outputId": "dd2cc727-39c2-4829-97b2-d83f8d680235"
      },
      "source": [
        "dim = 6\n",
        "SpiderPageRank = np.zeros([dim,dim])\n",
        "d=0.85;\n",
        "\n",
        "print(\"The spider trap is the ensemble of pages [5,6] that are not linked to any other pages\")\n",
        "\n",
        "\n",
        "#Definition of the system\n",
        "neighbors = np.zeros([dim, 3], dtype=int)\n",
        "neighbors[0] = [1,2,-1]\n",
        "neighbors[1] = [0,3,-1]\n",
        "neighbors[2] = [3,0,-1]\n",
        "neighbors[3] = [1,2,4]\n",
        "neighbors[4] = [5,-1,-1]\n",
        "neighbors[5] = [4,-1,-1]\n",
        "\n",
        "\n",
        "# fill the matrix\n",
        "for k in range(dim):\n",
        "    Kbout=np.sum(neighbors[k, :]>-1) #Number of neighbors\n",
        "    for i in range(len(neighbors[k, :])):\n",
        "      if neighbors[k, i]>-1 :\n",
        "        SpiderPageRank[neighbors[k, i], k] += (1/Kbout)*d\n",
        "\n",
        "J=(1-d)/6*np.ones([6,1])\n",
        "\n",
        "print(\"π(1)=\",eigvects[0,0]/norm,\" π(2)=\",eigvects[1,0]/norm,\" π(3)=\",eigvects[2,0]/norm)\n",
        "print(\"π(4)=\",eigvects[3,0]/norm,\" π(5)=\",eigvects[4,0]/norm,\" π(6)=\",eigvects[5,0]/norm)\n",
        "\n",
        "\n",
        "\n",
        "prob = np.random.rand(dim)\n",
        "prob /= np.sum(prob)\n",
        "minp, maxp = np.min(prob), np.max(prob)\n",
        "print(\"Initial vector:\", prob)\n",
        "\n",
        "k = 30\n",
        "#fig, ax = plt.subplots(k, k, figsize=(12,10))\n",
        "\n",
        "for i in range(k**2):\n",
        "    #ax[i//k, i%k].pcolormesh(prob.reshape(2,3), vmin=minp, vmax=maxp)\n",
        "    prob = np.dot(SpiderPageRank, prob)\n",
        "    for i in range(dim):\n",
        "      prob[i]+=J[i];\n",
        "\n",
        "\n",
        "\n",
        "print(\"π(1)=\",prob[0],\" π(2)=\",prob[1],\" π(3)=\",prob[2])\n",
        "print(\"π(4)=\",prob[3],\" π(5)=\",prob[4],\" π(6)=\",prob[5])"
      ],
      "execution_count": 7,
      "outputs": [
        {
          "output_type": "stream",
          "name": "stdout",
          "text": [
            "The spider trap is the ensemble of pages [5,6] that are not linked to any other pages\n",
            "π(1)= (0.08333333333333329+0j)  π(2)= (0.1249999999999999+0j)  π(3)= (0.08333333333333341+0j)\n",
            "π(4)= (0.12499999999999992+0j)  π(5)= (0.16666666666666682+0j)  π(6)= (0.12500000000000006+0j)\n",
            "Initial vector: [0.23546693 0.28876885 0.07452987 0.08117898 0.30058531 0.01947006]\n",
            "π(1)= 0.11623036649214664  π(2)= 0.10732984293193722  π(3)= 0.10732984293193722\n",
            "π(4)= 0.11623036649214664  π(5)= 0.28534031413612587  π(6)= 0.2675392670157068\n"
          ]
        }
      ]
    },
    {
      "cell_type": "markdown",
      "metadata": {
        "id": "f8krG6Z1hHOa"
      },
      "source": [
        "**Answer space**\n",
        "\n",
        "A program is expected to answer this question. \n",
        "\n",
        "The final PageRank for the $6$ web pages is:\n",
        "\n",
        "$$ \\pi(1)=??, \\quad  \\pi(2)= ??, \\quad \\pi(3)= ??$$\n",
        "$$ \\pi(4)=??, \\quad  \\pi(5)= ??, \\quad \\pi(6)= ??$$\n",
        "\n",
        "--------------------------"
      ]
    },
    {
      "cell_type": "markdown",
      "metadata": {
        "id": "DJXllSiMhHOf"
      },
      "source": [
        "### PageRank performace:\n",
        "\n",
        "The PageRank algorithm is a time-consuming process to provide a score for each site in the networks. A much simpler and intuitive measure is given by the **in-degree**  , $K_a^{\\text{in}}$. In this case, sites with high in-degree are more important. One might think that two measures are equivalent, but this is not the case, especially for complex graphs. To illustrate the difference let's study the citation network of the first 49 volumes of Physical Review Letters. \\\\\n",
        "The dataset you find here lets you reconstruct the adjacency matrix  of the citation network:\n",
        "$$A_{ij} = \n",
        "\\begin{cases}\n",
        "1 & \\text{if the paper} \\; j \\; \\text{cites the paper} \\; i \\\\\n",
        "0 & \\text{otherwise}\n",
        "\\end{cases}\n",
        "$$\n",
        "Please follow the instruction below to download the dataset."
      ]
    },
    {
      "cell_type": "code",
      "metadata": {
        "id": "Up1KL9lUm2uT",
        "colab": {
          "base_uri": "https://localhost:8080/"
        },
        "outputId": "0335b29d-32fe-4feb-c421-f57a82ede989"
      },
      "source": [
        "#HOW TO DOWNLOAD THE DATASET:\n",
        "#If you are on Google Colab, by running this code box the dataset will be saved in a temporary folder online\n",
        "! wget https://raw.githubusercontent.com/Schimmenti/NumPhysENS/master/adj_list.txt\n",
        "#If you are using your own jupyter notebook please download manually the file\n",
        "#from the link https://raw.githubusercontent.com/Schimmenti/NumPhysENS/master/adj_list.txt\n",
        "#and put it in the same folder of the notebook"
      ],
      "execution_count": 8,
      "outputs": [
        {
          "output_type": "stream",
          "name": "stdout",
          "text": [
            "--2021-10-13 08:41:53--  https://raw.githubusercontent.com/Schimmenti/NumPhysENS/master/adj_list.txt\n",
            "Resolving raw.githubusercontent.com (raw.githubusercontent.com)... 185.199.108.133, 185.199.109.133, 185.199.110.133, ...\n",
            "Connecting to raw.githubusercontent.com (raw.githubusercontent.com)|185.199.108.133|:443... connected.\n",
            "HTTP request sent, awaiting response... 200 OK\n",
            "Length: 520226 (508K) [text/plain]\n",
            "Saving to: ‘adj_list.txt’\n",
            "\n",
            "adj_list.txt        100%[===================>] 508.03K  --.-KB/s    in 0.05s   \n",
            "\n",
            "2021-10-13 08:41:54 (9.39 MB/s) - ‘adj_list.txt’ saved [520226/520226]\n",
            "\n"
          ]
        }
      ]
    },
    {
      "cell_type": "markdown",
      "metadata": {
        "id": "xJ-NydvMpIh9"
      },
      "source": [
        "We don't leave the creation of the adjacency matrix and the transition matrix to you. Just execute the code box below and the adjacency matrix will be saved in a variable named $A$"
      ]
    },
    {
      "cell_type": "code",
      "metadata": {
        "id": "uRzwk8tFm-ob"
      },
      "source": [
        "#don't change this code, it is necessary for the creation of the adjacency matrix\n",
        "import pandas as pd\n",
        "import networkx as nx\n",
        "import numpy as np\n",
        "import warnings\n",
        "import scipy as sc\n",
        "import scipy.sparse as sparse\n",
        "import matplotlib.pyplot as plt\n",
        "adj_list = pd.read_csv('adj_list.txt', sep=' ', header=None)\n",
        "adj_list.columns = ['from','to']\n",
        "g = nx.from_pandas_edgelist(adj_list, source='from', target='to', create_using=nx.DiGraph())\n",
        "A = nx.linalg.graphmatrix.adjacency_matrix(g, dtype=int).toarray().T\n",
        "#A_sparse = sp.sparse.csr_matrix(A, dtype=float)\n",
        "n_nodes = A.shape[0]\n",
        "with warnings.catch_warnings():\n",
        "    warnings.simplefilter(\"ignore\")\n",
        "    temp = np.sum(A, axis=0)\n",
        "    T = A/temp\n",
        "    T[~np.isfinite(T)] = 0\n",
        "#T_sparse = sp.sparse.csr_matrix(T, dtype=float)\n",
        "# the variable A contains the adjacency matrix of the network\n",
        "# the variable n_nodes contains the number of nodes of the network"
      ],
      "execution_count": 9,
      "outputs": []
    },
    {
      "cell_type": "markdown",
      "metadata": {
        "id": "H1I-UWBGm2Lu"
      },
      "source": [
        "**Question 8**\n",
        "* Compute the in-degree of each paper, namely the number of citations of each paper (a program is expected).\n",
        "\n",
        "* Using the in-degree as a measure, rank the first 10 papers of the network: the first paper in the ranking is the one with the highest in-degree, the second the one with the second highest in-degree...\n",
        "\n",
        "\n",
        "**Question 9**\n",
        "* Compute the PageRank $PR(a)$ associated to each paper (a program is expected; use $d=0.85$).\n",
        "\n",
        "* Using the $PR(a)$ as a measure, rank the first 10 papers of the network: the first paper in the ranking is the one with the highest PageRank, the second the one with the second highest PageRank...\n",
        "* Compare the two rankings and see if there are differences.\n",
        "\n",
        "N.B.: since in the network some dead-ends are present, $T$ is not a proper Markov Matrix: some $j^*$ exists such that $\\sum_i T_{ij^*}=0$. The fact that we are using $d \\neq 1$ ensures that the PageRank exists however it is not anymore a probability i.e. $\\sum_a \\pi_a$ will be different from $1$.\n",
        "\n",
        "**Question 10** \\\\\n",
        "* Compute the in-degree and the out-degree of the network and make an histogram for each.\n",
        "* Compute the in-degree for the highest ranked nodes according to both the in-degree and the PageRank rankings. Do you notice any difference?"
      ]
    },
    {
      "cell_type": "code",
      "metadata": {
        "id": "6jziez6Fc2bP",
        "colab": {
          "base_uri": "https://localhost:8080/"
        },
        "outputId": "593bfb67-987e-4dfa-c051-7ba89971439e"
      },
      "source": [
        "print(\"Question 8\")\n",
        "print(\"In-degree of each paper\")\n",
        "\n",
        "N=[]\n",
        "for k in range(len(A)):\n",
        "  N.append(sum(A[k,:]));\n"
      ],
      "execution_count": 10,
      "outputs": [
        {
          "output_type": "stream",
          "name": "stdout",
          "text": [
            "Question 8\n",
            "In-degree of each paper\n"
          ]
        }
      ]
    },
    {
      "cell_type": "code",
      "metadata": {
        "id": "rYiWp6ekc4KQ",
        "colab": {
          "base_uri": "https://localhost:8080/"
        },
        "outputId": "02334b1f-39e4-4857-d1a8-2b87c8ebd973"
      },
      "source": [
        "print(\"With the in-degree as a measure we have a rank of the 10 most important articles , from the first to the 10th :\")\n",
        "M=np.argsort(N);\n",
        "print(np.flip(M[len(A)-10:len(A)]))"
      ],
      "execution_count": 11,
      "outputs": [
        {
          "output_type": "stream",
          "name": "stdout",
          "text": [
            "With the in-degree as a measure we have a rank of the 10 most important articles , from the first to the 10th :\n",
            "[1367 3900 3903  375 2079 1031 3902 1533 4955 1063]\n"
          ]
        }
      ]
    },
    {
      "cell_type": "code",
      "metadata": {
        "colab": {
          "base_uri": "https://localhost:8080/"
        },
        "id": "K3wXWG98ve6s",
        "outputId": "27351003-07b9-4e7e-96d1-271fe96a7c17"
      },
      "source": [
        "print(\"Question 9\")\n",
        "\n",
        "#Let's build a Markov Matrix associated to the case of the dataset\n",
        "d=0.85;\n",
        "dim = len(A)\n",
        "SpiderPageRank2 = np.zeros([len(A),len(A)])\n",
        "\n",
        "# fill the matrix\n",
        "for k in range(dim):\n",
        "    Kbout=np.sum(A[:, k]) #Number of article quoted\n",
        "    if Kbout>0:\n",
        "      SpiderPageRank2[:,k] = (1/Kbout)*A[:,k] "
      ],
      "execution_count": 12,
      "outputs": [
        {
          "output_type": "stream",
          "name": "stdout",
          "text": [
            "Question 9\n"
          ]
        }
      ]
    },
    {
      "cell_type": "code",
      "metadata": {
        "colab": {
          "base_uri": "https://localhost:8080/"
        },
        "id": "cUknEVHp1Oua",
        "outputId": "272cfb97-f27b-4f70-fb1d-8d2f3e62b4f9"
      },
      "source": [
        "prob = np.random.rand(dim)\n",
        "prob /= np.sum(prob)\n",
        "minp, maxp = np.min(prob), np.max(prob)\n",
        "#print(\"Initial vector:\", prob)\n",
        "\n",
        "k = 10\n",
        "for i in range(k**2):\n",
        "    prob = np.dot(T, prob)\n",
        "    prob=d*prob+(1-d)/len(A);\n",
        "\n",
        "S=np.argsort(prob);\n",
        "print(\"With the PR(a) as a measure we have a rank of the 10 most important articles , from the first to the 10th :\")\n",
        "print(np.flip(S[len(A)-10:len(A)]))\n",
        "\n",
        "print(\"There are some differencies : even though the first article is still the number 1367 and that the 2079th and 3900 are in both top 10 ranks the other articles from the top 10 are not similarly ranked\")"
      ],
      "execution_count": 13,
      "outputs": [
        {
          "output_type": "stream",
          "name": "stdout",
          "text": [
            "With the PR(a) as a measure we have a rank of the 10 most important articles , from the first to the 10th :\n",
            "[1367  560  559  466 2079   26 1538  665 3900 4925]\n",
            "There are some differencies : even though the first article is still the number 1367 and that the 2079th and 3900 are in both top 10 ranks the other articles from the top 10 are not similarly ranked\n"
          ]
        }
      ]
    },
    {
      "cell_type": "code",
      "metadata": {
        "colab": {
          "base_uri": "https://localhost:8080/"
        },
        "id": "uIe9ecr-nLbJ",
        "outputId": "0fcd0289-1ac2-49b2-b861-3e58556afcb4"
      },
      "source": [
        "print(\"Question 10\")\n",
        "#The previous N list is the In degree\n",
        "O=[]\n",
        "for k in range(len(A)):\n",
        "  O.append(sum(A[:,k]));\n",
        "\n"
      ],
      "execution_count": 14,
      "outputs": [
        {
          "output_type": "stream",
          "name": "stdout",
          "text": [
            "Question 10\n"
          ]
        }
      ]
    },
    {
      "cell_type": "code",
      "metadata": {
        "colab": {
          "base_uri": "https://localhost:8080/",
          "height": 403
        },
        "id": "PnBIwB1Epn9-",
        "outputId": "6f45363a-d7e8-4529-9c0c-cfc7b8d25f36"
      },
      "source": [
        "plt.hist(N,bins=40)\n",
        "plt.title(\"Histogram of K_in and K_out in log scale, the orange curves correspond to K_out and the blue one to K_in\")\n",
        "plt.xlabel(\"Number of artcile associated to K_in and K_out\")\n",
        "plt.ylabel(\"K_in and K_out\")\n",
        "plt.hist(O,bins=22)\n",
        "plt.yscale('log')\n",
        "plt.show()\n",
        "\n",
        "Rank10In=M[len(A)-10:len(A)]\n",
        "IndegrIn=[];\n",
        "for i in Rank10In:\n",
        "  IndegrIn.append(N[i])\n",
        "\n",
        "print(\"In-degree for the highest ranked nodes according the in-degree Page Rank\")\n",
        "print(np.flip(IndegrIn))\n",
        "\n",
        "\n",
        "Rank10InNO=S[len(A)-10:len(A)]\n",
        "IndegrNO=[];\n",
        "for i in Rank10InNO:\n",
        "  IndegrNO.append(N[i])\n",
        "\n",
        "print(\"In-degree for the highest ranked nodes according the PR(a) Page Rank\")\n",
        "print(np.flip(IndegrNO))\n",
        "\n",
        "print(\"We can notice that except for one or two articles, as the first one, an article that is higly ranked with the PR(a) method does not necessarly have an import In-degree number : with this computation the rank doesn't depend only on the in-degree number and is a way to prevent false pages from being in the top researchs\")"
      ],
      "execution_count": 15,
      "outputs": [
        {
          "output_type": "display_data",
          "data": {
            "image/png": "[encoded data removed]",
            "text/plain": [
              "<Figure size 432x288 with 1 Axes>"
            ]
          },
          "metadata": {
            "needs_background": "light"
          }
        },
        {
          "output_type": "stream",
          "name": "stdout",
          "text": [
            "In-degree for the highest ranked nodes according the in-degree Page Rank\n",
            "[123 105  96  91  70  64  63  63  57  56]\n",
            "In-degree for the highest ranked nodes according the PR(a) Page Rank\n",
            "[123   8   4  28  70  43  41  15 105  47]\n",
            "We can notice that except for one or two articles, as the first one, an article that is higly ranked with the PR(a) method does not necessarly have an import In-degree number : with this computation the rank doesn't depend only on the in-degree number and is a way to prevent false pages from being in the top researchs\n"
          ]
        }
      ]
    },
    {
      "cell_type": "code",
      "metadata": {
        "id": "Q3t3CisfZ_xZ"
      },
      "source": [
        ""
      ],
      "execution_count": null,
      "outputs": []
    },
    {
      "cell_type": "code",
      "metadata": {
        "id": "qwu6TxhDaAB_"
      },
      "source": [
        ""
      ],
      "execution_count": null,
      "outputs": []
    },
    {
      "cell_type": "markdown",
      "metadata": {
        "id": "-NdUQbYfTke2"
      },
      "source": [
        "**Answer Space**\n",
        "\n",
        "\n",
        "--------------------------"
      ]
    },
    {
      "cell_type": "markdown",
      "metadata": {
        "id": "Cz21Hez0x-6V"
      },
      "source": [
        "### **Quick Python\\Numpy Guide (useful for this HW)**\n",
        "\n",
        "* An element of a vector is accessed as v[0], v[1] ...\n",
        "* An element of a matrix is accessed as A[0,0], A[0,1] ...\n",
        "* The i-th row of a matrix as A[i,:] (returns a 1-dim array)\n",
        "* The j-th column of a matrix as A[:,j] (returns a 1-dim array)\n",
        "\n",
        "* For summing a numpy array/matrix like $A$ one can use the method np.sum():\n",
        "it accepts as a first argument the ***array*** you want the sum of, and\n",
        "as a second (optional) argument called ***axis*** it accepts the\n",
        "direction (in a matrix for example) along which the sum is to be performed.\n",
        "1. np.sum(A) sums all the element in the matrix 'A' i.e. $\\sum_{ij} A_{ij}$\n",
        "2. np.sum(A, axis=0) sums the rows hence returns a 1-dim array i.e. $\\sum_i A_{ij}$\n",
        "3. np.sum(A, axis=1) sums the columns hence returns a 1-dim array i.e. $\\sum_j A_{ij}$\n",
        "\n",
        "* When you multply numpy arrays together few typical scenarios can occur:\n",
        "1. Vector-vector element-wise multiplication: we have two 1-dim vectors $a$ and $b$. By doing $a*b$ we get another vector $c$ such that $c_i = a_i b_i$\n",
        "2. Same results when $a$ and $b$ are two same-size matrices.\n",
        "3. When we multiply a matrix $X$ by a vector $a$ i.e. $X*a$ if the length of the vector has the same length of the matrix column we obtai $Y_{ij} = X_{ij} a_i$\n",
        "4. The linear matrix-vector multiplication is obtained by using a function np.matmul() where the first argument is a matrix and the second is a vector i.e. np.matmul(X,a)\n",
        "\n",
        "* Numpy provides efficient indexing of arrays using boolean masks. What is a boolean mask? Let's understand it with an example. Imagine we have an array $x$:\n",
        "```\n",
        "x = np.array([0.5, 2, 2, -1, 10, -3.8, 6, -0.3])\n",
        "```\n",
        "We want to find all the elements of $x$ that are positive. How do we do that? We construct a boolean mask!\n",
        "```\n",
        "boolean_mask = x > 0\n",
        "```\n",
        "By applying the $>$ operator to $x$ we go through the array $x$ and check whether an element is bigger than zero: the resulting array *boolean_mask* is an array of *True* and *False* depending on each value of $x$. Now if we do:\n",
        "```\n",
        "x[boolean_mask]\n",
        "```\n",
        "we obtain a sub-array of only positive values. In other words by using a boolean array (T/F) of the same length as $x$ we select only the elements of $x$ corresponding to a positive value of the mask.\n",
        "\n",
        "* Numpy let's you order easily an array:\n",
        "```\n",
        "np.sort(x)\n",
        "```\n",
        "that results in:\n",
        "```\n",
        "[-3.8, -1, -0.3, 0.5, 2, 2, 6, 10]\n",
        "```\n",
        "If one is interested in knowing the indices of the sorted array with respect to the unsorted one, one can use:\n",
        "```\n",
        "np.argsort(x)\n",
        "```\n",
        "which results in:\n",
        "```\n",
        "[5, 3, 7, 0, 1, 2, 6, 4]\n",
        "```\n",
        "since $-3.8$ had an index $5$ in the original array, $-1$ had an index $3$ and so on.\n"
      ]
    },
    {
      "cell_type": "code",
      "metadata": {
        "id": "nE0c6ni4oLtC"
      },
      "source": [
        "#Example code for clarity:\n",
        "import numpy as np\n",
        "X = np.array([[2,0],[1,1]]) #simple 2x2 matrix\n",
        "a = np.sum(X, axis=0)\n",
        "b = np.sum(X, axis=1)\n",
        "print('Matrix:')\n",
        "print(X)\n",
        "print('Sum of elements: ', np.sum(X))\n",
        "print('Sum of rows: ', a)\n",
        "print('Sum of columns: ',b)\n",
        "print('Element wise product of the two vectors above: ', a*b)\n",
        "print('Matrix multiplied by the first vector:')\n",
        "print(X*a)\n",
        "print('Matrix vector multiplication:')\n",
        "print(np.matmul(X,a))"
      ],
      "execution_count": null,
      "outputs": []
    }
  ]
}