{
  "cells": [
    {
      "cell_type": "markdown",
      "metadata": {
        "id": "view-in-github",
        "colab_type": "text"
      },
      "source": [
        "<a href=\"https://colab.research.google.com/github/NicolasZucker/NicolasZucker/blob/main/ZUCKER-Notebook.ipynb\" target=\"_parent\"><img src=\"https://colab.research.google.com/assets/colab-badge.svg\" alt=\"Open In Colab\"/></a>"
      ]
    },
    {
      "cell_type": "markdown",
      "metadata": {
        "id": "r410ErXI-OT3"
      },
      "source": [
        "# Data Driven Physics. Final Examination 2022. SC. DL. RM.\n",
        "Analysis of RNA sequences to Infer a Gaussian model.\n"
      ]
    },
    {
      "cell_type": "code",
      "execution_count": null,
      "metadata": {
        "id": "Mfdkr58j-OUE"
      },
      "outputs": [],
      "source": [
        "import numpy as np\n",
        "import math\n",
        "import matplotlib.pyplot as plt\n",
        "from scipy.sparse import coo_matrix\n",
        "import numpy.matlib\n",
        "import numpy.linalg as LA\n",
        "from numpy.linalg import inv\n",
        "import scipy.stats as stats"
      ]
    },
    {
      "cell_type": "markdown",
      "metadata": {
        "id": "VIj9cqcR-OUK"
      },
      "source": [
        "# Data reading"
      ]
    },
    {
      "cell_type": "markdown",
      "metadata": {
        "id": "bShjRZCz-OUM"
      },
      "source": [
        "Train data-set"
      ]
    },
    {
      "cell_type": "code",
      "execution_count": 14,
      "metadata": {
        "id": "dwIIIXzu-OUO"
      },
      "outputs": [],
      "source": [
        "# load training dataset\n",
        "train_seqs = []\n",
        "with open('train_seqs.txt', 'r') as f:\n",
        "    lines = f.readlines()\n",
        "    for l in lines:\n",
        "        t_l = l.rstrip() # remove \\n\n",
        "        train_seqs.append(t_l)    "
      ]
    },
    {
      "cell_type": "code",
      "execution_count": 13,
      "metadata": {
        "id": "Zp_jBo2K-OUQ",
        "outputId": "5103718a-70f7-4602-e5fd-75e6848ce809",
        "colab": {
          "base_uri": "https://localhost:8080/",
          "height": 35
        }
      },
      "outputs": [
        {
          "output_type": "execute_result",
          "data": {
            "application/vnd.google.colaboratory.intrinsic+json": {
              "type": "string"
            },
            "text/plain": [
              "'ACUGCAUCAAGAGCGGCGGAGGGACAGGCCCGAUGAAGCC-CGGCAACCAGCAACC----UGC-AUGGUGCUAAUUCCUA-------------------AGAUGUGGU'"
            ]
          },
          "metadata": {},
          "execution_count": 13
        }
      ],
      "source": [
        "train_seqs[0]"
      ]
    },
    {
      "cell_type": "code",
      "execution_count": 29,
      "metadata": {
        "id": "fns3FOvP-OUU",
        "outputId": "a3151e15-a8aa-4bde-a8eb-d3ef4980bac9",
        "colab": {
          "base_uri": "https://localhost:8080/"
        }
      },
      "outputs": [
        {
          "output_type": "stream",
          "name": "stdout",
          "text": [
            "5182 108\n"
          ]
        }
      ],
      "source": [
        "M=np.size(train_seqs)\n",
        "L=len(train_seqs[0])\n",
        "print(M,L)"
      ]
    },
    {
      "cell_type": "code",
      "source": [
        ""
      ],
      "metadata": {
        "colab": {
          "base_uri": "https://localhost:8080/"
        },
        "id": "Q05RKNCECMQK",
        "outputId": "6e6bcaee-6a82-4c3a-9e45-6153025a834c"
      },
      "execution_count": 26,
      "outputs": [
        {
          "output_type": "stream",
          "name": "stdout",
          "text": [
            "False\n"
          ]
        }
      ]
    },
    {
      "cell_type": "markdown",
      "source": [
        "Question  1 A)\n",
        "\n"
      ],
      "metadata": {
        "id": "-Z-exA4HBSCA"
      }
    },
    {
      "cell_type": "code",
      "source": [
        "Monhot=np.zeros([M,L,4])\n",
        "for k in range(M):\n",
        "  for i in range(L):\n",
        "    if (train_seqs[k][i]=='-'):\n",
        "      Monhot[k,i,0]=1\n",
        "    if (train_seqs[k][i]=='A'):\n",
        "      Monhot[k,i,1]=1\n",
        "    if (train_seqs[k][i]=='C'):\n",
        "      Monhot[k,i,2]=1\n",
        "    if (train_seqs[k][i]=='G'):\n",
        "      Monhot[k,i,3]=1\n",
        "print(Monhot[0,1])"
      ],
      "metadata": {
        "colab": {
          "base_uri": "https://localhost:8080/"
        },
        "id": "qOjGIIDvBQ1z",
        "outputId": "e50a528b-cb2f-4599-aa90-84b1a449f08a"
      },
      "execution_count": 37,
      "outputs": [
        {
          "output_type": "stream",
          "name": "stdout",
          "text": [
            "[0. 0. 1. 0.]\n"
          ]
        }
      ]
    },
    {
      "cell_type": "markdown",
      "source": [
        "SINGLE SITE FREQUENCY :\n"
      ],
      "metadata": {
        "id": "N0t7y-TdETde"
      }
    },
    {
      "cell_type": "code",
      "source": [
        "SinSFr=np.zeros([L,4])\n",
        "for k in range(L):\n",
        "  for a in range(4):\n",
        "    SinSFr[k,a]=np.sum(Monhot[:,k,a])/M\n",
        "print(SinSFr[1,:])"
      ],
      "metadata": {
        "colab": {
          "base_uri": "https://localhost:8080/"
        },
        "id": "YGdwJ6ZcEdjy",
        "outputId": "bca80c82-c43d-4818-b372-42f59657be3b"
      },
      "execution_count": 52,
      "outputs": [
        {
          "output_type": "stream",
          "name": "stdout",
          "text": [
            "[0.00154381 0.19741413 0.10459282 0.11424161]\n"
          ]
        }
      ]
    },
    {
      "cell_type": "markdown",
      "source": [
        "PairWise freqeuncies"
      ],
      "metadata": {
        "id": "xxH0JGxuGm0L"
      }
    },
    {
      "cell_type": "code",
      "source": [
        "PairFreq=np.zeros([L,L,4,4])\n",
        "for k in range(L):\n",
        "  for s in range(L):\n",
        "    for a1 in range(4):\n",
        "      for a2 in range(4):\n",
        "        PairFreq[k,s,a1,a2]=np.sum(Monhot[:,k,a1]*Monhot[:,s,a2])/M\n"
      ],
      "metadata": {
        "id": "XLqZZT5vGqcu"
      },
      "execution_count": 53,
      "outputs": []
    },
    {
      "cell_type": "markdown",
      "source": [
        "## Question 1) B pseudocount in the frequencies and correlations"
      ],
      "metadata": {
        "id": "mHB6XrNTH_cD"
      }
    },
    {
      "cell_type": "code",
      "source": [
        "SinSFrPrime=np.zeros([L,4])\n",
        "Alpha=0.5\n",
        "for k in range(L):\n",
        "  for a in range(4):\n",
        "    SinSFrPrime[k,a]=(SinSFr[k,a])*(1-Alpha)+(Alpha/5)\n",
        "\n",
        "PairFreqPrime=np.zeros([L,L,4,4])\n",
        "for k in range(L):\n",
        "  for s in range(L):\n",
        "    for a1 in range(4):\n",
        "      for a2 in range(4):\n",
        "        PairFreqPrime[k,s,a1,a2]=PairFreqPrime[k,s,a1,a2]*(1-Alpha)+(Alpha/25)\n",
        "\n",
        "\n",
        "#To preserve the relation on the diagonal we have to add :\n",
        "for k in range(L):\n",
        "  for a1 in range(4):\n",
        "    for a2 in range(4):\n",
        "      PairFreqPrime[k,k,a1,a2]=SinSFrPrime[k,a1]*(int(a1==a2))"
      ],
      "metadata": {
        "id": "lewXtMPZICfV"
      },
      "execution_count": 56,
      "outputs": []
    },
    {
      "cell_type": "markdown",
      "source": [
        "# **QUESTION 2 FIT OF A GAUSSIAN MODEL**"
      ],
      "metadata": {
        "id": "iFohXzTqKJst"
      }
    },
    {
      "cell_type": "markdown",
      "source": [
        "Jij (a, b) must be the pairwise frequency -fi,j (a, b)"
      ],
      "metadata": {
        "id": "t6Ve4xt-LG4d"
      }
    },
    {
      "cell_type": "markdown",
      "source": [
        "Computation of the distribution of log probabilities"
      ],
      "metadata": {
        "id": "NZbUf9LqL6b4"
      }
    },
    {
      "cell_type": "code",
      "source": [
        "def energy(Config):\n",
        "  H=0;\n",
        "  for k in range(108):\n",
        "    for l in range(108):\n",
        "      for a in range(4):\n",
        "        for b in range(4):\n",
        "          H+=((Config[k,a]-SinSFrPrime[k,a])*(Config[l,b]-SinSFrPrime[l,b])*PairFreqPrime[k,l,a,b])\n",
        "  return(H)\n"
      ],
      "metadata": {
        "id": "EiJHW9KLLyXS"
      },
      "execution_count": 59,
      "outputs": []
    },
    {
      "cell_type": "code",
      "source": [
        "Lener=np.zeros([M,1])\n",
        "for k in range(M):\n",
        "   Lener[k]=energy(Monhot[k])"
      ],
      "metadata": {
        "colab": {
          "base_uri": "https://localhost:8080/",
          "height": 304
        },
        "id": "G_8KIeQGMrNW",
        "outputId": "c70c536f-23c3-4b61-9cdc-ee4cb1403240"
      },
      "execution_count": 62,
      "outputs": [
        {
          "output_type": "error",
          "ename": "KeyboardInterrupt",
          "evalue": "ignored",
          "traceback": [
            "\u001b[0;31m---------------------------------------------------------------------------\u001b[0m",
            "\u001b[0;31mKeyboardInterrupt\u001b[0m                         Traceback (most recent call last)",
            "\u001b[0;32m<ipython-input-62-f5fdb64deba7>\u001b[0m in \u001b[0;36m<module>\u001b[0;34m()\u001b[0m\n\u001b[1;32m      1\u001b[0m \u001b[0mLener\u001b[0m\u001b[0;34m=\u001b[0m\u001b[0mnp\u001b[0m\u001b[0;34m.\u001b[0m\u001b[0mzeros\u001b[0m\u001b[0;34m(\u001b[0m\u001b[0;34m[\u001b[0m\u001b[0mM\u001b[0m\u001b[0;34m,\u001b[0m\u001b[0;36m1\u001b[0m\u001b[0;34m]\u001b[0m\u001b[0;34m)\u001b[0m\u001b[0;34m\u001b[0m\u001b[0;34m\u001b[0m\u001b[0m\n\u001b[1;32m      2\u001b[0m \u001b[0;32mfor\u001b[0m \u001b[0mk\u001b[0m \u001b[0;32min\u001b[0m \u001b[0mrange\u001b[0m\u001b[0;34m(\u001b[0m\u001b[0mM\u001b[0m\u001b[0;34m)\u001b[0m\u001b[0;34m:\u001b[0m\u001b[0;34m\u001b[0m\u001b[0;34m\u001b[0m\u001b[0m\n\u001b[0;32m----> 3\u001b[0;31m    \u001b[0mLener\u001b[0m\u001b[0;34m[\u001b[0m\u001b[0mk\u001b[0m\u001b[0;34m]\u001b[0m\u001b[0;34m=\u001b[0m\u001b[0menergy\u001b[0m\u001b[0;34m(\u001b[0m\u001b[0mMonhot\u001b[0m\u001b[0;34m[\u001b[0m\u001b[0mk\u001b[0m\u001b[0;34m]\u001b[0m\u001b[0;34m)\u001b[0m\u001b[0;34m\u001b[0m\u001b[0;34m\u001b[0m\u001b[0m\n\u001b[0m",
            "\u001b[0;32m<ipython-input-59-c05d25cf070c>\u001b[0m in \u001b[0;36menergy\u001b[0;34m(Config)\u001b[0m\n\u001b[1;32m      5\u001b[0m       \u001b[0;32mfor\u001b[0m \u001b[0ma\u001b[0m \u001b[0;32min\u001b[0m \u001b[0mrange\u001b[0m\u001b[0;34m(\u001b[0m\u001b[0;36m4\u001b[0m\u001b[0;34m)\u001b[0m\u001b[0;34m:\u001b[0m\u001b[0;34m\u001b[0m\u001b[0;34m\u001b[0m\u001b[0m\n\u001b[1;32m      6\u001b[0m         \u001b[0;32mfor\u001b[0m \u001b[0mb\u001b[0m \u001b[0;32min\u001b[0m \u001b[0mrange\u001b[0m\u001b[0;34m(\u001b[0m\u001b[0;36m4\u001b[0m\u001b[0;34m)\u001b[0m\u001b[0;34m:\u001b[0m\u001b[0;34m\u001b[0m\u001b[0;34m\u001b[0m\u001b[0m\n\u001b[0;32m----> 7\u001b[0;31m           \u001b[0mH\u001b[0m\u001b[0;34m+=\u001b[0m\u001b[0;34m(\u001b[0m\u001b[0;34m(\u001b[0m\u001b[0mConfig\u001b[0m\u001b[0;34m[\u001b[0m\u001b[0mk\u001b[0m\u001b[0;34m,\u001b[0m\u001b[0ma\u001b[0m\u001b[0;34m]\u001b[0m\u001b[0;34m-\u001b[0m\u001b[0mSinSFrPrime\u001b[0m\u001b[0;34m[\u001b[0m\u001b[0mk\u001b[0m\u001b[0;34m,\u001b[0m\u001b[0ma\u001b[0m\u001b[0;34m]\u001b[0m\u001b[0;34m)\u001b[0m\u001b[0;34m*\u001b[0m\u001b[0;34m(\u001b[0m\u001b[0mConfig\u001b[0m\u001b[0;34m[\u001b[0m\u001b[0ml\u001b[0m\u001b[0;34m,\u001b[0m\u001b[0mb\u001b[0m\u001b[0;34m]\u001b[0m\u001b[0;34m-\u001b[0m\u001b[0mSinSFrPrime\u001b[0m\u001b[0;34m[\u001b[0m\u001b[0ml\u001b[0m\u001b[0;34m,\u001b[0m\u001b[0mb\u001b[0m\u001b[0;34m]\u001b[0m\u001b[0;34m)\u001b[0m\u001b[0;34m*\u001b[0m\u001b[0mPairFreqPrime\u001b[0m\u001b[0;34m[\u001b[0m\u001b[0mk\u001b[0m\u001b[0;34m,\u001b[0m\u001b[0ml\u001b[0m\u001b[0;34m,\u001b[0m\u001b[0ma\u001b[0m\u001b[0;34m,\u001b[0m\u001b[0mb\u001b[0m\u001b[0;34m]\u001b[0m\u001b[0;34m)\u001b[0m\u001b[0;34m\u001b[0m\u001b[0;34m\u001b[0m\u001b[0m\n\u001b[0m\u001b[1;32m      8\u001b[0m   \u001b[0;32mreturn\u001b[0m\u001b[0;34m(\u001b[0m\u001b[0mH\u001b[0m\u001b[0;34m)\u001b[0m\u001b[0;34m\u001b[0m\u001b[0;34m\u001b[0m\u001b[0m\n",
            "\u001b[0;31mKeyboardInterrupt\u001b[0m: "
          ]
        }
      ]
    },
    {
      "cell_type": "markdown",
      "source": [
        ""
      ],
      "metadata": {
        "id": "9we_3U8DL5FI"
      }
    },
    {
      "cell_type": "code",
      "source": [
        "ProbaDistrib=Lener/np.sum(Lener)\n",
        "plt.plot(ProbaDistrib)"
      ],
      "metadata": {
        "id": "UgE65ogsQeoQ"
      },
      "execution_count": null,
      "outputs": []
    },
    {
      "cell_type": "markdown",
      "metadata": {
        "id": "v_NNVcK5-OUX"
      },
      "source": [
        "Test data-sets"
      ]
    },
    {
      "cell_type": "code",
      "execution_count": null,
      "metadata": {
        "id": "w3kb9tYG-OUZ",
        "outputId": "99fe467e-a569-4a6c-af05-c945fef116f9"
      },
      "outputs": [
        {
          "name": "stdout",
          "output_type": "stream",
          "text": [
            "500 108\n",
            "500 108\n",
            "500 108\n",
            "500 108\n"
          ]
        }
      ],
      "source": [
        "# load test dataset 1\n",
        "test_seqs_1 = []\n",
        "with open('data/test_seqs_1.txt', 'r') as f:\n",
        "    lines = f.readlines()\n",
        "    for l in lines:\n",
        "        t_l = l.rstrip() # remove \\n\n",
        "        test_seqs_1.append(t_l)\n",
        "\n",
        "M1=np.size(test_seqs_1)\n",
        "L=len(test_seqs_1[0])\n",
        "print(M1,L)    \n",
        "\n",
        "# load test dataset 2\n",
        "test_seqs_2 = []\n",
        "with open('data/test_seqs_2.txt', 'r') as f:\n",
        "    lines = f.readlines()\n",
        "    for l in lines:\n",
        "        t_l = l.rstrip() # remove \\n\n",
        "        test_seqs_2.append(t_l)\n",
        "\n",
        "M2=np.size(test_seqs_2)\n",
        "L=len(test_seqs_1[0])\n",
        "print(M2,L) \n",
        "\n",
        "# load test dataset 3\n",
        "test_seqs_3 = []\n",
        "with open('data/test_seqs_3.txt', 'r') as f:\n",
        "    lines = f.readlines()\n",
        "    for l in lines:\n",
        "        t_l = l.rstrip() # remove \\n\n",
        "        test_seqs_3.append(t_l)\n",
        "\n",
        "M3=np.size(test_seqs_3)\n",
        "L=len(test_seqs_3[0])\n",
        "print(M3,L) \n",
        "\n",
        "\n",
        "# load test dataset 4\n",
        "test_seqs_4 = []\n",
        "with open('data/test_seqs_4.txt', 'r') as f:\n",
        "    lines = f.readlines()\n",
        "    for l in lines:\n",
        "        t_l = l.rstrip() # remove \\n\n",
        "        test_seqs_4.append(t_l)\n",
        "\n",
        "M4=np.size(test_seqs_4)\n",
        "L=len(test_seqs_4[0])\n",
        "print(M4,L) \n",
        "\n",
        "\n",
        "\n"
      ]
    },
    {
      "cell_type": "code",
      "execution_count": null,
      "metadata": {
        "id": "UnrVVfUP-OUe"
      },
      "outputs": [],
      "source": [
        "def letter2number(a): \n",
        "    #to convert the nucleotide  letters +gap into integer numbers from 0 to 4\n",
        "    switcher = {\n",
        "        '-': 0,\n",
        "        'A': 1,\n",
        "        'C': 2,\n",
        "        'G':3,\n",
        "        'U':4,\n",
        "        }\n",
        "    #return switcher.get(a, \"nothing\")\n",
        "    return switcher.get(a,0)"
      ]
    },
    {
      "cell_type": "code",
      "execution_count": null,
      "metadata": {
        "id": "lcakfErx-OUh"
      },
      "outputs": [],
      "source": [
        "# for Question 3B to compute the F score in the Anova test  between two\n",
        "#distribution y1 and y2 use the python routine:\n",
        "\n",
        "#fvalue, pvalue = stats.f_oneway(y1,LPd_test2)"
      ]
    }
  ],
  "metadata": {
    "anaconda-cloud": {},
    "kernelspec": {
      "display_name": "Python 3",
      "language": "python",
      "name": "python3"
    },
    "language_info": {
      "codemirror_mode": {
        "name": "ipython",
        "version": 3
      },
      "file_extension": ".py",
      "mimetype": "text/x-python",
      "name": "python",
      "nbconvert_exporter": "python",
      "pygments_lexer": "ipython3",
      "version": "3.8.3"
    },
    "colab": {
      "name": "exam_2022_start.ipynb",
      "provenance": [],
      "include_colab_link": true
    }
  },
  "nbformat": 4,
  "nbformat_minor": 0
}